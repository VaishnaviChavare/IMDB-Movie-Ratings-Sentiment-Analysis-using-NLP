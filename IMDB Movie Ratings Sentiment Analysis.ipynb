{
 "cells": [
  {
   "cell_type": "code",
   "execution_count": 1,
   "id": "5bb17977",
   "metadata": {},
   "outputs": [],
   "source": [
    "import numpy as np\n",
    "import pandas as pd\n",
    "import nltk\n",
    "import seaborn as sns"
   ]
  },
  {
   "cell_type": "code",
   "execution_count": 2,
   "id": "7d2c0342",
   "metadata": {},
   "outputs": [
    {
     "data": {
      "text/html": [
       "<div>\n",
       "<style scoped>\n",
       "    .dataframe tbody tr th:only-of-type {\n",
       "        vertical-align: middle;\n",
       "    }\n",
       "\n",
       "    .dataframe tbody tr th {\n",
       "        vertical-align: top;\n",
       "    }\n",
       "\n",
       "    .dataframe thead th {\n",
       "        text-align: right;\n",
       "    }\n",
       "</style>\n",
       "<table border=\"1\" class=\"dataframe\">\n",
       "  <thead>\n",
       "    <tr style=\"text-align: right;\">\n",
       "      <th></th>\n",
       "      <th>text</th>\n",
       "      <th>label</th>\n",
       "    </tr>\n",
       "  </thead>\n",
       "  <tbody>\n",
       "    <tr>\n",
       "      <th>0</th>\n",
       "      <td>I grew up (b. 1965) watching and loving the Th...</td>\n",
       "      <td>0</td>\n",
       "    </tr>\n",
       "    <tr>\n",
       "      <th>1</th>\n",
       "      <td>When I put this movie in my DVD player, and sa...</td>\n",
       "      <td>0</td>\n",
       "    </tr>\n",
       "    <tr>\n",
       "      <th>2</th>\n",
       "      <td>Why do people who do not know what a particula...</td>\n",
       "      <td>0</td>\n",
       "    </tr>\n",
       "    <tr>\n",
       "      <th>3</th>\n",
       "      <td>Even though I have great interest in Biblical ...</td>\n",
       "      <td>0</td>\n",
       "    </tr>\n",
       "    <tr>\n",
       "      <th>4</th>\n",
       "      <td>Im a die hard Dads Army fan and nothing will e...</td>\n",
       "      <td>1</td>\n",
       "    </tr>\n",
       "    <tr>\n",
       "      <th>...</th>\n",
       "      <td>...</td>\n",
       "      <td>...</td>\n",
       "    </tr>\n",
       "    <tr>\n",
       "      <th>39995</th>\n",
       "      <td>\"Western Union\" is something of a forgotten cl...</td>\n",
       "      <td>1</td>\n",
       "    </tr>\n",
       "    <tr>\n",
       "      <th>39996</th>\n",
       "      <td>This movie is an incredible piece of work. It ...</td>\n",
       "      <td>1</td>\n",
       "    </tr>\n",
       "    <tr>\n",
       "      <th>39997</th>\n",
       "      <td>My wife and I watched this movie because we pl...</td>\n",
       "      <td>0</td>\n",
       "    </tr>\n",
       "    <tr>\n",
       "      <th>39998</th>\n",
       "      <td>When I first watched Flatliners, I was amazed....</td>\n",
       "      <td>1</td>\n",
       "    </tr>\n",
       "    <tr>\n",
       "      <th>39999</th>\n",
       "      <td>Why would this film be so good, but only gross...</td>\n",
       "      <td>1</td>\n",
       "    </tr>\n",
       "  </tbody>\n",
       "</table>\n",
       "<p>40000 rows × 2 columns</p>\n",
       "</div>"
      ],
      "text/plain": [
       "                                                    text  label\n",
       "0      I grew up (b. 1965) watching and loving the Th...      0\n",
       "1      When I put this movie in my DVD player, and sa...      0\n",
       "2      Why do people who do not know what a particula...      0\n",
       "3      Even though I have great interest in Biblical ...      0\n",
       "4      Im a die hard Dads Army fan and nothing will e...      1\n",
       "...                                                  ...    ...\n",
       "39995  \"Western Union\" is something of a forgotten cl...      1\n",
       "39996  This movie is an incredible piece of work. It ...      1\n",
       "39997  My wife and I watched this movie because we pl...      0\n",
       "39998  When I first watched Flatliners, I was amazed....      1\n",
       "39999  Why would this film be so good, but only gross...      1\n",
       "\n",
       "[40000 rows x 2 columns]"
      ]
     },
     "execution_count": 2,
     "metadata": {},
     "output_type": "execute_result"
    }
   ],
   "source": [
    "df = pd.read_csv(\"movie.csv\")\n",
    "df"
   ]
  },
  {
   "cell_type": "code",
   "execution_count": 3,
   "id": "82ce494b",
   "metadata": {},
   "outputs": [
    {
     "data": {
      "text/html": [
       "<div>\n",
       "<style scoped>\n",
       "    .dataframe tbody tr th:only-of-type {\n",
       "        vertical-align: middle;\n",
       "    }\n",
       "\n",
       "    .dataframe tbody tr th {\n",
       "        vertical-align: top;\n",
       "    }\n",
       "\n",
       "    .dataframe thead th {\n",
       "        text-align: right;\n",
       "    }\n",
       "</style>\n",
       "<table border=\"1\" class=\"dataframe\">\n",
       "  <thead>\n",
       "    <tr style=\"text-align: right;\">\n",
       "      <th></th>\n",
       "      <th>text</th>\n",
       "      <th>label</th>\n",
       "    </tr>\n",
       "  </thead>\n",
       "  <tbody>\n",
       "    <tr>\n",
       "      <th>0</th>\n",
       "      <td>I grew up (b. 1965) watching and loving the Th...</td>\n",
       "      <td>0</td>\n",
       "    </tr>\n",
       "    <tr>\n",
       "      <th>1</th>\n",
       "      <td>When I put this movie in my DVD player, and sa...</td>\n",
       "      <td>0</td>\n",
       "    </tr>\n",
       "    <tr>\n",
       "      <th>2</th>\n",
       "      <td>Why do people who do not know what a particula...</td>\n",
       "      <td>0</td>\n",
       "    </tr>\n",
       "    <tr>\n",
       "      <th>3</th>\n",
       "      <td>Even though I have great interest in Biblical ...</td>\n",
       "      <td>0</td>\n",
       "    </tr>\n",
       "    <tr>\n",
       "      <th>4</th>\n",
       "      <td>Im a die hard Dads Army fan and nothing will e...</td>\n",
       "      <td>1</td>\n",
       "    </tr>\n",
       "  </tbody>\n",
       "</table>\n",
       "</div>"
      ],
      "text/plain": [
       "                                                text  label\n",
       "0  I grew up (b. 1965) watching and loving the Th...      0\n",
       "1  When I put this movie in my DVD player, and sa...      0\n",
       "2  Why do people who do not know what a particula...      0\n",
       "3  Even though I have great interest in Biblical ...      0\n",
       "4  Im a die hard Dads Army fan and nothing will e...      1"
      ]
     },
     "execution_count": 3,
     "metadata": {},
     "output_type": "execute_result"
    }
   ],
   "source": [
    "df.head()"
   ]
  },
  {
   "cell_type": "code",
   "execution_count": 4,
   "id": "e2ae1c0a",
   "metadata": {},
   "outputs": [
    {
     "data": {
      "text/html": [
       "<div>\n",
       "<style scoped>\n",
       "    .dataframe tbody tr th:only-of-type {\n",
       "        vertical-align: middle;\n",
       "    }\n",
       "\n",
       "    .dataframe tbody tr th {\n",
       "        vertical-align: top;\n",
       "    }\n",
       "\n",
       "    .dataframe thead th {\n",
       "        text-align: right;\n",
       "    }\n",
       "</style>\n",
       "<table border=\"1\" class=\"dataframe\">\n",
       "  <thead>\n",
       "    <tr style=\"text-align: right;\">\n",
       "      <th></th>\n",
       "      <th>text</th>\n",
       "      <th>label</th>\n",
       "    </tr>\n",
       "  </thead>\n",
       "  <tbody>\n",
       "    <tr>\n",
       "      <th>39995</th>\n",
       "      <td>\"Western Union\" is something of a forgotten cl...</td>\n",
       "      <td>1</td>\n",
       "    </tr>\n",
       "    <tr>\n",
       "      <th>39996</th>\n",
       "      <td>This movie is an incredible piece of work. It ...</td>\n",
       "      <td>1</td>\n",
       "    </tr>\n",
       "    <tr>\n",
       "      <th>39997</th>\n",
       "      <td>My wife and I watched this movie because we pl...</td>\n",
       "      <td>0</td>\n",
       "    </tr>\n",
       "    <tr>\n",
       "      <th>39998</th>\n",
       "      <td>When I first watched Flatliners, I was amazed....</td>\n",
       "      <td>1</td>\n",
       "    </tr>\n",
       "    <tr>\n",
       "      <th>39999</th>\n",
       "      <td>Why would this film be so good, but only gross...</td>\n",
       "      <td>1</td>\n",
       "    </tr>\n",
       "  </tbody>\n",
       "</table>\n",
       "</div>"
      ],
      "text/plain": [
       "                                                    text  label\n",
       "39995  \"Western Union\" is something of a forgotten cl...      1\n",
       "39996  This movie is an incredible piece of work. It ...      1\n",
       "39997  My wife and I watched this movie because we pl...      0\n",
       "39998  When I first watched Flatliners, I was amazed....      1\n",
       "39999  Why would this film be so good, but only gross...      1"
      ]
     },
     "execution_count": 4,
     "metadata": {},
     "output_type": "execute_result"
    }
   ],
   "source": [
    "df.tail()"
   ]
  },
  {
   "cell_type": "code",
   "execution_count": 5,
   "id": "cf5de7d9",
   "metadata": {},
   "outputs": [
    {
     "data": {
      "text/plain": [
       "text     0\n",
       "label    0\n",
       "dtype: int64"
      ]
     },
     "execution_count": 5,
     "metadata": {},
     "output_type": "execute_result"
    }
   ],
   "source": [
    "df.isnull().sum()"
   ]
  },
  {
   "cell_type": "code",
   "execution_count": 6,
   "id": "f21074d8",
   "metadata": {},
   "outputs": [
    {
     "name": "stdout",
     "output_type": "stream",
     "text": [
      "<class 'pandas.core.frame.DataFrame'>\n",
      "RangeIndex: 40000 entries, 0 to 39999\n",
      "Data columns (total 2 columns):\n",
      " #   Column  Non-Null Count  Dtype \n",
      "---  ------  --------------  ----- \n",
      " 0   text    40000 non-null  object\n",
      " 1   label   40000 non-null  int64 \n",
      "dtypes: int64(1), object(1)\n",
      "memory usage: 625.1+ KB\n"
     ]
    }
   ],
   "source": [
    "df.info()"
   ]
  },
  {
   "cell_type": "code",
   "execution_count": 7,
   "id": "bae2ee26",
   "metadata": {},
   "outputs": [
    {
     "data": {
      "text/html": [
       "<div>\n",
       "<style scoped>\n",
       "    .dataframe tbody tr th:only-of-type {\n",
       "        vertical-align: middle;\n",
       "    }\n",
       "\n",
       "    .dataframe tbody tr th {\n",
       "        vertical-align: top;\n",
       "    }\n",
       "\n",
       "    .dataframe thead th {\n",
       "        text-align: right;\n",
       "    }\n",
       "</style>\n",
       "<table border=\"1\" class=\"dataframe\">\n",
       "  <thead>\n",
       "    <tr style=\"text-align: right;\">\n",
       "      <th></th>\n",
       "      <th>count</th>\n",
       "      <th>mean</th>\n",
       "      <th>std</th>\n",
       "      <th>min</th>\n",
       "      <th>25%</th>\n",
       "      <th>50%</th>\n",
       "      <th>75%</th>\n",
       "      <th>max</th>\n",
       "    </tr>\n",
       "  </thead>\n",
       "  <tbody>\n",
       "    <tr>\n",
       "      <th>label</th>\n",
       "      <td>40000.0</td>\n",
       "      <td>0.499525</td>\n",
       "      <td>0.500006</td>\n",
       "      <td>0.0</td>\n",
       "      <td>0.0</td>\n",
       "      <td>0.0</td>\n",
       "      <td>1.0</td>\n",
       "      <td>1.0</td>\n",
       "    </tr>\n",
       "  </tbody>\n",
       "</table>\n",
       "</div>"
      ],
      "text/plain": [
       "         count      mean       std  min  25%  50%  75%  max\n",
       "label  40000.0  0.499525  0.500006  0.0  0.0  0.0  1.0  1.0"
      ]
     },
     "execution_count": 7,
     "metadata": {},
     "output_type": "execute_result"
    }
   ],
   "source": [
    "df.describe().T"
   ]
  },
  {
   "cell_type": "code",
   "execution_count": 8,
   "id": "d83fb487",
   "metadata": {},
   "outputs": [
    {
     "data": {
      "text/plain": [
       "Index(['text', 'label'], dtype='object')"
      ]
     },
     "execution_count": 8,
     "metadata": {},
     "output_type": "execute_result"
    }
   ],
   "source": [
    "df.columns"
   ]
  },
  {
   "cell_type": "code",
   "execution_count": 9,
   "id": "131b0ad9",
   "metadata": {},
   "outputs": [
    {
     "data": {
      "text/plain": [
       "text     False\n",
       "label    False\n",
       "dtype: bool"
      ]
     },
     "execution_count": 9,
     "metadata": {},
     "output_type": "execute_result"
    }
   ],
   "source": [
    "df.isnull().any()"
   ]
  },
  {
   "cell_type": "code",
   "execution_count": 10,
   "id": "e780d6ed",
   "metadata": {},
   "outputs": [
    {
     "data": {
      "text/plain": [
       "<Axes: >"
      ]
     },
     "execution_count": 10,
     "metadata": {},
     "output_type": "execute_result"
    },
    {
     "data": {
      "image/png": "[encoded data removed]",
      "text/plain": [
       "<Figure size 640x480 with 2 Axes>"
      ]
     },
     "metadata": {},
     "output_type": "display_data"
    }
   ],
   "source": [
    "sns.heatmap(df.isnull())"
   ]
  },
  {
   "cell_type": "code",
   "execution_count": 11,
   "id": "a098b7eb",
   "metadata": {},
   "outputs": [
    {
     "data": {
      "text/plain": [
       "(40000, 2)"
      ]
     },
     "execution_count": 11,
     "metadata": {},
     "output_type": "execute_result"
    }
   ],
   "source": [
    "df.shape"
   ]
  },
  {
   "cell_type": "code",
   "execution_count": 12,
   "id": "476ce9fe",
   "metadata": {},
   "outputs": [
    {
     "data": {
      "text/plain": [
       "label\n",
       "0    20019\n",
       "1    19981\n",
       "Name: count, dtype: int64"
      ]
     },
     "execution_count": 12,
     "metadata": {},
     "output_type": "execute_result"
    }
   ],
   "source": [
    "df['label'].value_counts()"
   ]
  },
  {
   "cell_type": "markdown",
   "id": "0ae06d3c",
   "metadata": {},
   "source": [
    "# Preprocessing"
   ]
  },
  {
   "cell_type": "markdown",
   "id": "75f291a2",
   "metadata": {},
   "source": [
    "## Lowercasing"
   ]
  },
  {
   "cell_type": "code",
   "execution_count": 13,
   "id": "6bf6c988",
   "metadata": {},
   "outputs": [
    {
     "name": "stdout",
     "output_type": "stream",
     "text": [
      "                                                    text  label  \\\n",
      "0      I grew up (b. 1965) watching and loving the Th...      0   \n",
      "1      When I put this movie in my DVD player, and sa...      0   \n",
      "2      Why do people who do not know what a particula...      0   \n",
      "3      Even though I have great interest in Biblical ...      0   \n",
      "4      Im a die hard Dads Army fan and nothing will e...      1   \n",
      "...                                                  ...    ...   \n",
      "39995  \"Western Union\" is something of a forgotten cl...      1   \n",
      "39996  This movie is an incredible piece of work. It ...      1   \n",
      "39997  My wife and I watched this movie because we pl...      0   \n",
      "39998  When I first watched Flatliners, I was amazed....      1   \n",
      "39999  Why would this film be so good, but only gross...      1   \n",
      "\n",
      "                                          lowercase_text  \n",
      "0      i grew up (b. 1965) watching and loving the th...  \n",
      "1      when i put this movie in my dvd player, and sa...  \n",
      "2      why do people who do not know what a particula...  \n",
      "3      even though i have great interest in biblical ...  \n",
      "4      im a die hard dads army fan and nothing will e...  \n",
      "...                                                  ...  \n",
      "39995  \"western union\" is something of a forgotten cl...  \n",
      "39996  this movie is an incredible piece of work. it ...  \n",
      "39997  my wife and i watched this movie because we pl...  \n",
      "39998  when i first watched flatliners, i was amazed....  \n",
      "39999  why would this film be so good, but only gross...  \n",
      "\n",
      "[40000 rows x 3 columns]\n"
     ]
    }
   ],
   "source": [
    "def to_lowercase(text):\n",
    "    return text.lower()\n",
    "\n",
    "df['lowercase_text'] = df['text'].apply(to_lowercase)\n",
    "print(df)"
   ]
  },
  {
   "cell_type": "markdown",
   "id": "f25ac709",
   "metadata": {},
   "source": [
    "## Spelling Correction"
   ]
  },
  {
   "cell_type": "code",
   "execution_count": 14,
   "id": "5f9416ce",
   "metadata": {},
   "outputs": [
    {
     "name": "stdout",
     "output_type": "stream",
     "text": [
      "Requirement already satisfied: nltk in c:\\users\\sandesh chavare\\anaconda3\\lib\\site-packages (3.8.1)\n",
      "Requirement already satisfied: textblob in c:\\users\\sandesh chavare\\anaconda3\\lib\\site-packages (0.18.0.post0)\n",
      "Requirement already satisfied: click in c:\\users\\sandesh chavare\\anaconda3\\lib\\site-packages (from nltk) (8.0.4)\n",
      "Requirement already satisfied: joblib in c:\\users\\sandesh chavare\\anaconda3\\lib\\site-packages (from nltk) (1.2.0)\n",
      "Requirement already satisfied: regex>=2021.8.3 in c:\\users\\sandesh chavare\\anaconda3\\lib\\site-packages (from nltk) (2022.7.9)\n",
      "Requirement already satisfied: tqdm in c:\\users\\sandesh chavare\\anaconda3\\lib\\site-packages (from nltk) (4.65.0)\n",
      "Requirement already satisfied: colorama in c:\\users\\sandesh chavare\\anaconda3\\lib\\site-packages (from click->nltk) (0.4.6)\n",
      "Note: you may need to restart the kernel to use updated packages.\n"
     ]
    }
   ],
   "source": [
    "pip install nltk textblob"
   ]
  },
  {
   "cell_type": "code",
   "execution_count": 15,
   "id": "1d34f900",
   "metadata": {},
   "outputs": [],
   "source": [
    "from textblob import TextBlob\n"
   ]
  },
  {
   "cell_type": "markdown",
   "id": "d0d50cd1",
   "metadata": {},
   "source": [
    "## Punctuation and Number Removal"
   ]
  },
  {
   "cell_type": "code",
   "execution_count": 16,
   "id": "c87a9f16",
   "metadata": {},
   "outputs": [
    {
     "name": "stdout",
     "output_type": "stream",
     "text": [
      "                                                    text  label  \\\n",
      "0      I grew up (b. 1965) watching and loving the Th...      0   \n",
      "1      When I put this movie in my DVD player, and sa...      0   \n",
      "2      Why do people who do not know what a particula...      0   \n",
      "3      Even though I have great interest in Biblical ...      0   \n",
      "4      Im a die hard Dads Army fan and nothing will e...      1   \n",
      "...                                                  ...    ...   \n",
      "39995  \"Western Union\" is something of a forgotten cl...      1   \n",
      "39996  This movie is an incredible piece of work. It ...      1   \n",
      "39997  My wife and I watched this movie because we pl...      0   \n",
      "39998  When I first watched Flatliners, I was amazed....      1   \n",
      "39999  Why would this film be so good, but only gross...      1   \n",
      "\n",
      "                                          lowercase_text  \\\n",
      "0      i grew up (b. 1965) watching and loving the th...   \n",
      "1      when i put this movie in my dvd player, and sa...   \n",
      "2      why do people who do not know what a particula...   \n",
      "3      even though i have great interest in biblical ...   \n",
      "4      im a die hard dads army fan and nothing will e...   \n",
      "...                                                  ...   \n",
      "39995  \"western union\" is something of a forgotten cl...   \n",
      "39996  this movie is an incredible piece of work. it ...   \n",
      "39997  my wife and i watched this movie because we pl...   \n",
      "39998  when i first watched flatliners, i was amazed....   \n",
      "39999  why would this film be so good, but only gross...   \n",
      "\n",
      "                                          no_punctuation  \n",
      "0      i grew up b  watching and loving the thunderbi...  \n",
      "1      when i put this movie in my dvd player and sat...  \n",
      "2      why do people who do not know what a particula...  \n",
      "3      even though i have great interest in biblical ...  \n",
      "4      im a die hard dads army fan and nothing will e...  \n",
      "...                                                  ...  \n",
      "39995  western union is something of a forgotten clas...  \n",
      "39996  this movie is an incredible piece of work it e...  \n",
      "39997  my wife and i watched this movie because we pl...  \n",
      "39998  when i first watched flatliners i was amazed i...  \n",
      "39999  why would this film be so good but only gross ...  \n",
      "\n",
      "[40000 rows x 4 columns]\n"
     ]
    }
   ],
   "source": [
    "import re\n",
    "\n",
    "def remove_punctuation_and_numbers(text):\n",
    "    text = re.sub(r'\\d+', '', text)  # Remove numbers\n",
    "    text = re.sub(r'[^\\w\\s]', '', text)  # Remove punctuation\n",
    "    return text\n",
    "\n",
    "df['no_punctuation'] = df['lowercase_text'].apply(remove_punctuation_and_numbers)\n",
    "print(df)"
   ]
  },
  {
   "cell_type": "markdown",
   "id": "064599e6",
   "metadata": {},
   "source": [
    "## Tokenization"
   ]
  },
  {
   "cell_type": "code",
   "execution_count": 17,
   "id": "cbeeca8c",
   "metadata": {},
   "outputs": [
    {
     "name": "stderr",
     "output_type": "stream",
     "text": [
      "[nltk_data] Downloading package punkt to C:\\Users\\Sandesh\n",
      "[nltk_data]     Chavare\\AppData\\Roaming\\nltk_data...\n",
      "[nltk_data]   Package punkt is already up-to-date!\n"
     ]
    },
    {
     "data": {
      "text/plain": [
       "True"
      ]
     },
     "execution_count": 17,
     "metadata": {},
     "output_type": "execute_result"
    }
   ],
   "source": [
    "nltk.download('punkt')"
   ]
  },
  {
   "cell_type": "code",
   "execution_count": 18,
   "id": "2ba5f0be",
   "metadata": {},
   "outputs": [
    {
     "name": "stdout",
     "output_type": "stream",
     "text": [
      "                                                    text  label  \\\n",
      "0      I grew up (b. 1965) watching and loving the Th...      0   \n",
      "1      When I put this movie in my DVD player, and sa...      0   \n",
      "2      Why do people who do not know what a particula...      0   \n",
      "3      Even though I have great interest in Biblical ...      0   \n",
      "4      Im a die hard Dads Army fan and nothing will e...      1   \n",
      "...                                                  ...    ...   \n",
      "39995  \"Western Union\" is something of a forgotten cl...      1   \n",
      "39996  This movie is an incredible piece of work. It ...      1   \n",
      "39997  My wife and I watched this movie because we pl...      0   \n",
      "39998  When I first watched Flatliners, I was amazed....      1   \n",
      "39999  Why would this film be so good, but only gross...      1   \n",
      "\n",
      "                                          lowercase_text  \\\n",
      "0      i grew up (b. 1965) watching and loving the th...   \n",
      "1      when i put this movie in my dvd player, and sa...   \n",
      "2      why do people who do not know what a particula...   \n",
      "3      even though i have great interest in biblical ...   \n",
      "4      im a die hard dads army fan and nothing will e...   \n",
      "...                                                  ...   \n",
      "39995  \"western union\" is something of a forgotten cl...   \n",
      "39996  this movie is an incredible piece of work. it ...   \n",
      "39997  my wife and i watched this movie because we pl...   \n",
      "39998  when i first watched flatliners, i was amazed....   \n",
      "39999  why would this film be so good, but only gross...   \n",
      "\n",
      "                                          no_punctuation  \\\n",
      "0      i grew up b  watching and loving the thunderbi...   \n",
      "1      when i put this movie in my dvd player and sat...   \n",
      "2      why do people who do not know what a particula...   \n",
      "3      even though i have great interest in biblical ...   \n",
      "4      im a die hard dads army fan and nothing will e...   \n",
      "...                                                  ...   \n",
      "39995  western union is something of a forgotten clas...   \n",
      "39996  this movie is an incredible piece of work it e...   \n",
      "39997  my wife and i watched this movie because we pl...   \n",
      "39998  when i first watched flatliners i was amazed i...   \n",
      "39999  why would this film be so good but only gross ...   \n",
      "\n",
      "                                          tokenized_text  \n",
      "0      [i, grew, up, b, watching, and, loving, the, t...  \n",
      "1      [when, i, put, this, movie, in, my, dvd, playe...  \n",
      "2      [why, do, people, who, do, not, know, what, a,...  \n",
      "3      [even, though, i, have, great, interest, in, b...  \n",
      "4      [im, a, die, hard, dads, army, fan, and, nothi...  \n",
      "...                                                  ...  \n",
      "39995  [western, union, is, something, of, a, forgott...  \n",
      "39996  [this, movie, is, an, incredible, piece, of, w...  \n",
      "39997  [my, wife, and, i, watched, this, movie, becau...  \n",
      "39998  [when, i, first, watched, flatliners, i, was, ...  \n",
      "39999  [why, would, this, film, be, so, good, but, on...  \n",
      "\n",
      "[40000 rows x 5 columns]\n"
     ]
    }
   ],
   "source": [
    "from nltk.tokenize import word_tokenize\n",
    "\n",
    "def tokenize(text):\n",
    "    return word_tokenize(text)\n",
    "\n",
    "df['tokenized_text'] = df['no_punctuation'].apply(tokenize)\n",
    "print(df)"
   ]
  },
  {
   "cell_type": "markdown",
   "id": "50024601",
   "metadata": {},
   "source": [
    "## Stopword Removal"
   ]
  },
  {
   "cell_type": "code",
   "execution_count": 19,
   "id": "3ff46ec2",
   "metadata": {},
   "outputs": [
    {
     "name": "stderr",
     "output_type": "stream",
     "text": [
      "[nltk_data] Downloading package stopwords to C:\\Users\\Sandesh\n",
      "[nltk_data]     Chavare\\AppData\\Roaming\\nltk_data...\n",
      "[nltk_data]   Package stopwords is already up-to-date!\n"
     ]
    },
    {
     "name": "stdout",
     "output_type": "stream",
     "text": [
      "                                                    text  label  \\\n",
      "0      I grew up (b. 1965) watching and loving the Th...      0   \n",
      "1      When I put this movie in my DVD player, and sa...      0   \n",
      "2      Why do people who do not know what a particula...      0   \n",
      "3      Even though I have great interest in Biblical ...      0   \n",
      "4      Im a die hard Dads Army fan and nothing will e...      1   \n",
      "...                                                  ...    ...   \n",
      "39995  \"Western Union\" is something of a forgotten cl...      1   \n",
      "39996  This movie is an incredible piece of work. It ...      1   \n",
      "39997  My wife and I watched this movie because we pl...      0   \n",
      "39998  When I first watched Flatliners, I was amazed....      1   \n",
      "39999  Why would this film be so good, but only gross...      1   \n",
      "\n",
      "                                          lowercase_text  \\\n",
      "0      i grew up (b. 1965) watching and loving the th...   \n",
      "1      when i put this movie in my dvd player, and sa...   \n",
      "2      why do people who do not know what a particula...   \n",
      "3      even though i have great interest in biblical ...   \n",
      "4      im a die hard dads army fan and nothing will e...   \n",
      "...                                                  ...   \n",
      "39995  \"western union\" is something of a forgotten cl...   \n",
      "39996  this movie is an incredible piece of work. it ...   \n",
      "39997  my wife and i watched this movie because we pl...   \n",
      "39998  when i first watched flatliners, i was amazed....   \n",
      "39999  why would this film be so good, but only gross...   \n",
      "\n",
      "                                          no_punctuation  \\\n",
      "0      i grew up b  watching and loving the thunderbi...   \n",
      "1      when i put this movie in my dvd player and sat...   \n",
      "2      why do people who do not know what a particula...   \n",
      "3      even though i have great interest in biblical ...   \n",
      "4      im a die hard dads army fan and nothing will e...   \n",
      "...                                                  ...   \n",
      "39995  western union is something of a forgotten clas...   \n",
      "39996  this movie is an incredible piece of work it e...   \n",
      "39997  my wife and i watched this movie because we pl...   \n",
      "39998  when i first watched flatliners i was amazed i...   \n",
      "39999  why would this film be so good but only gross ...   \n",
      "\n",
      "                                          tokenized_text  \\\n",
      "0      [i, grew, up, b, watching, and, loving, the, t...   \n",
      "1      [when, i, put, this, movie, in, my, dvd, playe...   \n",
      "2      [why, do, people, who, do, not, know, what, a,...   \n",
      "3      [even, though, i, have, great, interest, in, b...   \n",
      "4      [im, a, die, hard, dads, army, fan, and, nothi...   \n",
      "...                                                  ...   \n",
      "39995  [western, union, is, something, of, a, forgott...   \n",
      "39996  [this, movie, is, an, incredible, piece, of, w...   \n",
      "39997  [my, wife, and, i, watched, this, movie, becau...   \n",
      "39998  [when, i, first, watched, flatliners, i, was, ...   \n",
      "39999  [why, would, this, film, be, so, good, but, on...   \n",
      "\n",
      "                                            no_stopwords  \n",
      "0      [grew, b, watching, loving, thunderbirds, mate...  \n",
      "1      [put, movie, dvd, player, sat, coke, chips, ex...  \n",
      "2      [people, know, particular, time, past, like, f...  \n",
      "3      [even, though, great, interest, biblical, movi...  \n",
      "4      [im, die, hard, dads, army, fan, nothing, ever...  \n",
      "...                                                  ...  \n",
      "39995  [western, union, something, forgotten, classic...  \n",
      "39996  [movie, incredible, piece, work, explores, eve...  \n",
      "39997  [wife, watched, movie, plan, visit, sicily, st...  \n",
      "39998  [first, watched, flatliners, amazed, necessary...  \n",
      "39999  [would, film, good, gross, estimated, award, n...  \n",
      "\n",
      "[40000 rows x 6 columns]\n"
     ]
    }
   ],
   "source": [
    "from nltk.corpus import stopwords\n",
    "\n",
    "nltk.download('stopwords')\n",
    "stop_words = set(stopwords.words('english'))\n",
    "\n",
    "def remove_stopwords(words):\n",
    "    return [word for word in words if word not in stop_words]\n",
    "\n",
    "df['no_stopwords']=df['tokenized_text'].apply(remove_stopwords)\n",
    "print(df)"
   ]
  },
  {
   "cell_type": "markdown",
   "id": "36dd9d60",
   "metadata": {},
   "source": [
    "# Stemming"
   ]
  },
  {
   "cell_type": "code",
   "execution_count": 20,
   "id": "bf34109c",
   "metadata": {},
   "outputs": [
    {
     "name": "stdout",
     "output_type": "stream",
     "text": [
      "                                                    text  label  \\\n",
      "0      I grew up (b. 1965) watching and loving the Th...      0   \n",
      "1      When I put this movie in my DVD player, and sa...      0   \n",
      "2      Why do people who do not know what a particula...      0   \n",
      "3      Even though I have great interest in Biblical ...      0   \n",
      "4      Im a die hard Dads Army fan and nothing will e...      1   \n",
      "...                                                  ...    ...   \n",
      "39995  \"Western Union\" is something of a forgotten cl...      1   \n",
      "39996  This movie is an incredible piece of work. It ...      1   \n",
      "39997  My wife and I watched this movie because we pl...      0   \n",
      "39998  When I first watched Flatliners, I was amazed....      1   \n",
      "39999  Why would this film be so good, but only gross...      1   \n",
      "\n",
      "                                          lowercase_text  \\\n",
      "0      i grew up (b. 1965) watching and loving the th...   \n",
      "1      when i put this movie in my dvd player, and sa...   \n",
      "2      why do people who do not know what a particula...   \n",
      "3      even though i have great interest in biblical ...   \n",
      "4      im a die hard dads army fan and nothing will e...   \n",
      "...                                                  ...   \n",
      "39995  \"western union\" is something of a forgotten cl...   \n",
      "39996  this movie is an incredible piece of work. it ...   \n",
      "39997  my wife and i watched this movie because we pl...   \n",
      "39998  when i first watched flatliners, i was amazed....   \n",
      "39999  why would this film be so good, but only gross...   \n",
      "\n",
      "                                          no_punctuation  \\\n",
      "0      i grew up b  watching and loving the thunderbi...   \n",
      "1      when i put this movie in my dvd player and sat...   \n",
      "2      why do people who do not know what a particula...   \n",
      "3      even though i have great interest in biblical ...   \n",
      "4      im a die hard dads army fan and nothing will e...   \n",
      "...                                                  ...   \n",
      "39995  western union is something of a forgotten clas...   \n",
      "39996  this movie is an incredible piece of work it e...   \n",
      "39997  my wife and i watched this movie because we pl...   \n",
      "39998  when i first watched flatliners i was amazed i...   \n",
      "39999  why would this film be so good but only gross ...   \n",
      "\n",
      "                                          tokenized_text  \\\n",
      "0      [i, grew, up, b, watching, and, loving, the, t...   \n",
      "1      [when, i, put, this, movie, in, my, dvd, playe...   \n",
      "2      [why, do, people, who, do, not, know, what, a,...   \n",
      "3      [even, though, i, have, great, interest, in, b...   \n",
      "4      [im, a, die, hard, dads, army, fan, and, nothi...   \n",
      "...                                                  ...   \n",
      "39995  [western, union, is, something, of, a, forgott...   \n",
      "39996  [this, movie, is, an, incredible, piece, of, w...   \n",
      "39997  [my, wife, and, i, watched, this, movie, becau...   \n",
      "39998  [when, i, first, watched, flatliners, i, was, ...   \n",
      "39999  [why, would, this, film, be, so, good, but, on...   \n",
      "\n",
      "                                            no_stopwords  \\\n",
      "0      [grew, b, watching, loving, thunderbirds, mate...   \n",
      "1      [put, movie, dvd, player, sat, coke, chips, ex...   \n",
      "2      [people, know, particular, time, past, like, f...   \n",
      "3      [even, though, great, interest, biblical, movi...   \n",
      "4      [im, die, hard, dads, army, fan, nothing, ever...   \n",
      "...                                                  ...   \n",
      "39995  [western, union, something, forgotten, classic...   \n",
      "39996  [movie, incredible, piece, work, explores, eve...   \n",
      "39997  [wife, watched, movie, plan, visit, sicily, st...   \n",
      "39998  [first, watched, flatliners, amazed, necessary...   \n",
      "39999  [would, film, good, gross, estimated, award, n...   \n",
      "\n",
      "                                            stemmed_text  \n",
      "0      [grew, b, watch, love, thunderbird, mate, scho...  \n",
      "1      [put, movi, dvd, player, sat, coke, chip, expe...  \n",
      "2      [peopl, know, particular, time, past, like, fe...  \n",
      "3      [even, though, great, interest, biblic, movi, ...  \n",
      "4      [im, die, hard, dad, armi, fan, noth, ever, ch...  \n",
      "...                                                  ...  \n",
      "39995  [western, union, someth, forgotten, classic, w...  \n",
      "39996  [movi, incred, piec, work, explor, everi, nook...  \n",
      "39997  [wife, watch, movi, plan, visit, sicili, strom...  \n",
      "39998  [first, watch, flatlin, amaz, necessari, featu...  \n",
      "39999  [would, film, good, gross, estim, award, nomin...  \n",
      "\n",
      "[40000 rows x 7 columns]\n"
     ]
    }
   ],
   "source": [
    "from nltk.stem.porter import PorterStemmer\n",
    "\n",
    "stemmer = PorterStemmer()\n",
    "\n",
    "def stem_words(words):\n",
    "    return [stemmer.stem(word) for word in words]\n",
    "\n",
    "df['stemmed_text']=df['no_stopwords'].apply(stem_words)\n",
    "print(df)"
   ]
  },
  {
   "cell_type": "code",
   "execution_count": 21,
   "id": "bc2c8a11",
   "metadata": {},
   "outputs": [
    {
     "data": {
      "text/html": [
       "<div>\n",
       "<style scoped>\n",
       "    .dataframe tbody tr th:only-of-type {\n",
       "        vertical-align: middle;\n",
       "    }\n",
       "\n",
       "    .dataframe tbody tr th {\n",
       "        vertical-align: top;\n",
       "    }\n",
       "\n",
       "    .dataframe thead th {\n",
       "        text-align: right;\n",
       "    }\n",
       "</style>\n",
       "<table border=\"1\" class=\"dataframe\">\n",
       "  <thead>\n",
       "    <tr style=\"text-align: right;\">\n",
       "      <th></th>\n",
       "      <th>text</th>\n",
       "      <th>label</th>\n",
       "      <th>lowercase_text</th>\n",
       "      <th>no_punctuation</th>\n",
       "      <th>tokenized_text</th>\n",
       "      <th>no_stopwords</th>\n",
       "      <th>stemmed_text</th>\n",
       "    </tr>\n",
       "  </thead>\n",
       "  <tbody>\n",
       "    <tr>\n",
       "      <th>0</th>\n",
       "      <td>I grew up (b. 1965) watching and loving the Th...</td>\n",
       "      <td>0</td>\n",
       "      <td>i grew up (b. 1965) watching and loving the th...</td>\n",
       "      <td>i grew up b  watching and loving the thunderbi...</td>\n",
       "      <td>[i, grew, up, b, watching, and, loving, the, t...</td>\n",
       "      <td>[grew, b, watching, loving, thunderbirds, mate...</td>\n",
       "      <td>[grew, b, watch, love, thunderbird, mate, scho...</td>\n",
       "    </tr>\n",
       "    <tr>\n",
       "      <th>1</th>\n",
       "      <td>When I put this movie in my DVD player, and sa...</td>\n",
       "      <td>0</td>\n",
       "      <td>when i put this movie in my dvd player, and sa...</td>\n",
       "      <td>when i put this movie in my dvd player and sat...</td>\n",
       "      <td>[when, i, put, this, movie, in, my, dvd, playe...</td>\n",
       "      <td>[put, movie, dvd, player, sat, coke, chips, ex...</td>\n",
       "      <td>[put, movi, dvd, player, sat, coke, chip, expe...</td>\n",
       "    </tr>\n",
       "    <tr>\n",
       "      <th>2</th>\n",
       "      <td>Why do people who do not know what a particula...</td>\n",
       "      <td>0</td>\n",
       "      <td>why do people who do not know what a particula...</td>\n",
       "      <td>why do people who do not know what a particula...</td>\n",
       "      <td>[why, do, people, who, do, not, know, what, a,...</td>\n",
       "      <td>[people, know, particular, time, past, like, f...</td>\n",
       "      <td>[peopl, know, particular, time, past, like, fe...</td>\n",
       "    </tr>\n",
       "    <tr>\n",
       "      <th>3</th>\n",
       "      <td>Even though I have great interest in Biblical ...</td>\n",
       "      <td>0</td>\n",
       "      <td>even though i have great interest in biblical ...</td>\n",
       "      <td>even though i have great interest in biblical ...</td>\n",
       "      <td>[even, though, i, have, great, interest, in, b...</td>\n",
       "      <td>[even, though, great, interest, biblical, movi...</td>\n",
       "      <td>[even, though, great, interest, biblic, movi, ...</td>\n",
       "    </tr>\n",
       "    <tr>\n",
       "      <th>4</th>\n",
       "      <td>Im a die hard Dads Army fan and nothing will e...</td>\n",
       "      <td>1</td>\n",
       "      <td>im a die hard dads army fan and nothing will e...</td>\n",
       "      <td>im a die hard dads army fan and nothing will e...</td>\n",
       "      <td>[im, a, die, hard, dads, army, fan, and, nothi...</td>\n",
       "      <td>[im, die, hard, dads, army, fan, nothing, ever...</td>\n",
       "      <td>[im, die, hard, dad, armi, fan, noth, ever, ch...</td>\n",
       "    </tr>\n",
       "    <tr>\n",
       "      <th>...</th>\n",
       "      <td>...</td>\n",
       "      <td>...</td>\n",
       "      <td>...</td>\n",
       "      <td>...</td>\n",
       "      <td>...</td>\n",
       "      <td>...</td>\n",
       "      <td>...</td>\n",
       "    </tr>\n",
       "    <tr>\n",
       "      <th>39995</th>\n",
       "      <td>\"Western Union\" is something of a forgotten cl...</td>\n",
       "      <td>1</td>\n",
       "      <td>\"western union\" is something of a forgotten cl...</td>\n",
       "      <td>western union is something of a forgotten clas...</td>\n",
       "      <td>[western, union, is, something, of, a, forgott...</td>\n",
       "      <td>[western, union, something, forgotten, classic...</td>\n",
       "      <td>[western, union, someth, forgotten, classic, w...</td>\n",
       "    </tr>\n",
       "    <tr>\n",
       "      <th>39996</th>\n",
       "      <td>This movie is an incredible piece of work. It ...</td>\n",
       "      <td>1</td>\n",
       "      <td>this movie is an incredible piece of work. it ...</td>\n",
       "      <td>this movie is an incredible piece of work it e...</td>\n",
       "      <td>[this, movie, is, an, incredible, piece, of, w...</td>\n",
       "      <td>[movie, incredible, piece, work, explores, eve...</td>\n",
       "      <td>[movi, incred, piec, work, explor, everi, nook...</td>\n",
       "    </tr>\n",
       "    <tr>\n",
       "      <th>39997</th>\n",
       "      <td>My wife and I watched this movie because we pl...</td>\n",
       "      <td>0</td>\n",
       "      <td>my wife and i watched this movie because we pl...</td>\n",
       "      <td>my wife and i watched this movie because we pl...</td>\n",
       "      <td>[my, wife, and, i, watched, this, movie, becau...</td>\n",
       "      <td>[wife, watched, movie, plan, visit, sicily, st...</td>\n",
       "      <td>[wife, watch, movi, plan, visit, sicili, strom...</td>\n",
       "    </tr>\n",
       "    <tr>\n",
       "      <th>39998</th>\n",
       "      <td>When I first watched Flatliners, I was amazed....</td>\n",
       "      <td>1</td>\n",
       "      <td>when i first watched flatliners, i was amazed....</td>\n",
       "      <td>when i first watched flatliners i was amazed i...</td>\n",
       "      <td>[when, i, first, watched, flatliners, i, was, ...</td>\n",
       "      <td>[first, watched, flatliners, amazed, necessary...</td>\n",
       "      <td>[first, watch, flatlin, amaz, necessari, featu...</td>\n",
       "    </tr>\n",
       "    <tr>\n",
       "      <th>39999</th>\n",
       "      <td>Why would this film be so good, but only gross...</td>\n",
       "      <td>1</td>\n",
       "      <td>why would this film be so good, but only gross...</td>\n",
       "      <td>why would this film be so good but only gross ...</td>\n",
       "      <td>[why, would, this, film, be, so, good, but, on...</td>\n",
       "      <td>[would, film, good, gross, estimated, award, n...</td>\n",
       "      <td>[would, film, good, gross, estim, award, nomin...</td>\n",
       "    </tr>\n",
       "  </tbody>\n",
       "</table>\n",
       "<p>40000 rows × 7 columns</p>\n",
       "</div>"
      ],
      "text/plain": [
       "                                                    text  label  \\\n",
       "0      I grew up (b. 1965) watching and loving the Th...      0   \n",
       "1      When I put this movie in my DVD player, and sa...      0   \n",
       "2      Why do people who do not know what a particula...      0   \n",
       "3      Even though I have great interest in Biblical ...      0   \n",
       "4      Im a die hard Dads Army fan and nothing will e...      1   \n",
       "...                                                  ...    ...   \n",
       "39995  \"Western Union\" is something of a forgotten cl...      1   \n",
       "39996  This movie is an incredible piece of work. It ...      1   \n",
       "39997  My wife and I watched this movie because we pl...      0   \n",
       "39998  When I first watched Flatliners, I was amazed....      1   \n",
       "39999  Why would this film be so good, but only gross...      1   \n",
       "\n",
       "                                          lowercase_text  \\\n",
       "0      i grew up (b. 1965) watching and loving the th...   \n",
       "1      when i put this movie in my dvd player, and sa...   \n",
       "2      why do people who do not know what a particula...   \n",
       "3      even though i have great interest in biblical ...   \n",
       "4      im a die hard dads army fan and nothing will e...   \n",
       "...                                                  ...   \n",
       "39995  \"western union\" is something of a forgotten cl...   \n",
       "39996  this movie is an incredible piece of work. it ...   \n",
       "39997  my wife and i watched this movie because we pl...   \n",
       "39998  when i first watched flatliners, i was amazed....   \n",
       "39999  why would this film be so good, but only gross...   \n",
       "\n",
       "                                          no_punctuation  \\\n",
       "0      i grew up b  watching and loving the thunderbi...   \n",
       "1      when i put this movie in my dvd player and sat...   \n",
       "2      why do people who do not know what a particula...   \n",
       "3      even though i have great interest in biblical ...   \n",
       "4      im a die hard dads army fan and nothing will e...   \n",
       "...                                                  ...   \n",
       "39995  western union is something of a forgotten clas...   \n",
       "39996  this movie is an incredible piece of work it e...   \n",
       "39997  my wife and i watched this movie because we pl...   \n",
       "39998  when i first watched flatliners i was amazed i...   \n",
       "39999  why would this film be so good but only gross ...   \n",
       "\n",
       "                                          tokenized_text  \\\n",
       "0      [i, grew, up, b, watching, and, loving, the, t...   \n",
       "1      [when, i, put, this, movie, in, my, dvd, playe...   \n",
       "2      [why, do, people, who, do, not, know, what, a,...   \n",
       "3      [even, though, i, have, great, interest, in, b...   \n",
       "4      [im, a, die, hard, dads, army, fan, and, nothi...   \n",
       "...                                                  ...   \n",
       "39995  [western, union, is, something, of, a, forgott...   \n",
       "39996  [this, movie, is, an, incredible, piece, of, w...   \n",
       "39997  [my, wife, and, i, watched, this, movie, becau...   \n",
       "39998  [when, i, first, watched, flatliners, i, was, ...   \n",
       "39999  [why, would, this, film, be, so, good, but, on...   \n",
       "\n",
       "                                            no_stopwords  \\\n",
       "0      [grew, b, watching, loving, thunderbirds, mate...   \n",
       "1      [put, movie, dvd, player, sat, coke, chips, ex...   \n",
       "2      [people, know, particular, time, past, like, f...   \n",
       "3      [even, though, great, interest, biblical, movi...   \n",
       "4      [im, die, hard, dads, army, fan, nothing, ever...   \n",
       "...                                                  ...   \n",
       "39995  [western, union, something, forgotten, classic...   \n",
       "39996  [movie, incredible, piece, work, explores, eve...   \n",
       "39997  [wife, watched, movie, plan, visit, sicily, st...   \n",
       "39998  [first, watched, flatliners, amazed, necessary...   \n",
       "39999  [would, film, good, gross, estimated, award, n...   \n",
       "\n",
       "                                            stemmed_text  \n",
       "0      [grew, b, watch, love, thunderbird, mate, scho...  \n",
       "1      [put, movi, dvd, player, sat, coke, chip, expe...  \n",
       "2      [peopl, know, particular, time, past, like, fe...  \n",
       "3      [even, though, great, interest, biblic, movi, ...  \n",
       "4      [im, die, hard, dad, armi, fan, noth, ever, ch...  \n",
       "...                                                  ...  \n",
       "39995  [western, union, someth, forgotten, classic, w...  \n",
       "39996  [movi, incred, piec, work, explor, everi, nook...  \n",
       "39997  [wife, watch, movi, plan, visit, sicili, strom...  \n",
       "39998  [first, watch, flatlin, amaz, necessari, featu...  \n",
       "39999  [would, film, good, gross, estim, award, nomin...  \n",
       "\n",
       "[40000 rows x 7 columns]"
      ]
     },
     "execution_count": 21,
     "metadata": {},
     "output_type": "execute_result"
    }
   ],
   "source": [
    "df"
   ]
  },
  {
   "cell_type": "markdown",
   "id": "6d3faa18",
   "metadata": {},
   "source": [
    "# Training and Testing"
   ]
  },
  {
   "cell_type": "code",
   "execution_count": 22,
   "id": "ea0cebe8",
   "metadata": {},
   "outputs": [],
   "source": [
    "from sklearn.feature_extraction.text import TfidfVectorizer\n",
    "\n",
    "cv = TfidfVectorizer(max_features=2500)\n",
    "X = cv.fit_transform(df['text'] ).toarray()\n",
    "y = df['label']"
   ]
  },
  {
   "cell_type": "code",
   "execution_count": 23,
   "id": "8bbbe6f9",
   "metadata": {},
   "outputs": [],
   "source": [
    "from sklearn.model_selection import train_test_split\n",
    "\n",
    "X_train, X_test, y_train, y_test = train_test_split(X, y, test_size=0.2, random_state=42)"
   ]
  },
  {
   "cell_type": "markdown",
   "id": "8f477175",
   "metadata": {},
   "source": [
    "# Model Training"
   ]
  },
  {
   "cell_type": "code",
   "execution_count": 24,
   "id": "79aa9258",
   "metadata": {},
   "outputs": [
    {
     "data": {
      "text/html": [
       "<style>#sk-container-id-1 {color: black;}#sk-container-id-1 pre{padding: 0;}#sk-container-id-1 div.sk-toggleable {background-color: white;}#sk-container-id-1 label.sk-toggleable__label {cursor: pointer;display: block;width: 100%;margin-bottom: 0;padding: 0.3em;box-sizing: border-box;text-align: center;}#sk-container-id-1 label.sk-toggleable__label-arrow:before {content: \"▸\";float: left;margin-right: 0.25em;color: #696969;}#sk-container-id-1 label.sk-toggleable__label-arrow:hover:before {color: black;}#sk-container-id-1 div.sk-estimator:hover label.sk-toggleable__label-arrow:before {color: black;}#sk-container-id-1 div.sk-toggleable__content {max-height: 0;max-width: 0;overflow: hidden;text-align: left;background-color: #f0f8ff;}#sk-container-id-1 div.sk-toggleable__content pre {margin: 0.2em;color: black;border-radius: 0.25em;background-color: #f0f8ff;}#sk-container-id-1 input.sk-toggleable__control:checked~div.sk-toggleable__content {max-height: 200px;max-width: 100%;overflow: auto;}#sk-container-id-1 input.sk-toggleable__control:checked~label.sk-toggleable__label-arrow:before {content: \"▾\";}#sk-container-id-1 div.sk-estimator input.sk-toggleable__control:checked~label.sk-toggleable__label {background-color: #d4ebff;}#sk-container-id-1 div.sk-label input.sk-toggleable__control:checked~label.sk-toggleable__label {background-color: #d4ebff;}#sk-container-id-1 input.sk-hidden--visually {border: 0;clip: rect(1px 1px 1px 1px);clip: rect(1px, 1px, 1px, 1px);height: 1px;margin: -1px;overflow: hidden;padding: 0;position: absolute;width: 1px;}#sk-container-id-1 div.sk-estimator {font-family: monospace;background-color: #f0f8ff;border: 1px dotted black;border-radius: 0.25em;box-sizing: border-box;margin-bottom: 0.5em;}#sk-container-id-1 div.sk-estimator:hover {background-color: #d4ebff;}#sk-container-id-1 div.sk-parallel-item::after {content: \"\";width: 100%;border-bottom: 1px solid gray;flex-grow: 1;}#sk-container-id-1 div.sk-label:hover label.sk-toggleable__label {background-color: #d4ebff;}#sk-container-id-1 div.sk-serial::before {content: \"\";position: absolute;border-left: 1px solid gray;box-sizing: border-box;top: 0;bottom: 0;left: 50%;z-index: 0;}#sk-container-id-1 div.sk-serial {display: flex;flex-direction: column;align-items: center;background-color: white;padding-right: 0.2em;padding-left: 0.2em;position: relative;}#sk-container-id-1 div.sk-item {position: relative;z-index: 1;}#sk-container-id-1 div.sk-parallel {display: flex;align-items: stretch;justify-content: center;background-color: white;position: relative;}#sk-container-id-1 div.sk-item::before, #sk-container-id-1 div.sk-parallel-item::before {content: \"\";position: absolute;border-left: 1px solid gray;box-sizing: border-box;top: 0;bottom: 0;left: 50%;z-index: -1;}#sk-container-id-1 div.sk-parallel-item {display: flex;flex-direction: column;z-index: 1;position: relative;background-color: white;}#sk-container-id-1 div.sk-parallel-item:first-child::after {align-self: flex-end;width: 50%;}#sk-container-id-1 div.sk-parallel-item:last-child::after {align-self: flex-start;width: 50%;}#sk-container-id-1 div.sk-parallel-item:only-child::after {width: 0;}#sk-container-id-1 div.sk-dashed-wrapped {border: 1px dashed gray;margin: 0 0.4em 0.5em 0.4em;box-sizing: border-box;padding-bottom: 0.4em;background-color: white;}#sk-container-id-1 div.sk-label label {font-family: monospace;font-weight: bold;display: inline-block;line-height: 1.2em;}#sk-container-id-1 div.sk-label-container {text-align: center;}#sk-container-id-1 div.sk-container {/* jupyter's `normalize.less` sets `[hidden] { display: none; }` but bootstrap.min.css set `[hidden] { display: none !important; }` so we also need the `!important` here to be able to override the default hidden behavior on the sphinx rendered scikit-learn.org. See: https://github.com/scikit-learn/scikit-learn/issues/21755 */display: inline-block !important;position: relative;}#sk-container-id-1 div.sk-text-repr-fallback {display: none;}</style><div id=\"sk-container-id-1\" class=\"sk-top-container\"><div class=\"sk-text-repr-fallback\"><pre>LogisticRegression()</pre><b>In a Jupyter environment, please rerun this cell to show the HTML representation or trust the notebook. <br />On GitHub, the HTML representation is unable to render, please try loading this page with nbviewer.org.</b></div><div class=\"sk-container\" hidden><div class=\"sk-item\"><div class=\"sk-estimator sk-toggleable\"><input class=\"sk-toggleable__control sk-hidden--visually\" id=\"sk-estimator-id-1\" type=\"checkbox\" checked><label for=\"sk-estimator-id-1\" class=\"sk-toggleable__label sk-toggleable__label-arrow\">LogisticRegression</label><div class=\"sk-toggleable__content\"><pre>LogisticRegression()</pre></div></div></div></div></div>"
      ],
      "text/plain": [
       "LogisticRegression()"
      ]
     },
     "execution_count": 24,
     "metadata": {},
     "output_type": "execute_result"
    }
   ],
   "source": [
    "from sklearn.linear_model import LogisticRegression\n",
    "\n",
    "model = LogisticRegression(max_iter=100)\n",
    "model.fit(X_train, y_train)"
   ]
  },
  {
   "cell_type": "code",
   "execution_count": 25,
   "id": "7f880542",
   "metadata": {},
   "outputs": [],
   "source": [
    "y_pred = model.predict(X_test)"
   ]
  },
  {
   "cell_type": "markdown",
   "id": "10d16f6f",
   "metadata": {},
   "source": [
    "# Model Evaluation"
   ]
  },
  {
   "cell_type": "code",
   "execution_count": 26,
   "id": "1d3f2c4d",
   "metadata": {},
   "outputs": [],
   "source": [
    "from sklearn.metrics import accuracy_score, precision_score, recall_score, classification_report, confusion_matrix\n",
    "\n",
    "accuracy = accuracy_score(y_test, y_pred)\n",
    "precision = precision_score(y_test, y_pred)\n",
    "recall = recall_score(y_test, y_pred)"
   ]
  },
  {
   "cell_type": "code",
   "execution_count": 27,
   "id": "f9752ccd",
   "metadata": {},
   "outputs": [
    {
     "name": "stdout",
     "output_type": "stream",
     "text": [
      "Classification Report:\n",
      "               precision    recall  f1-score   support\n",
      "\n",
      "           0       0.89      0.88      0.89      3966\n",
      "           1       0.88      0.89      0.89      4034\n",
      "\n",
      "    accuracy                           0.89      8000\n",
      "   macro avg       0.89      0.89      0.89      8000\n",
      "weighted avg       0.89      0.89      0.89      8000\n",
      "\n",
      "Accuracy: 0.887\n",
      "Precision: 0.8833904948554631\n",
      "Recall: 0.8939018344075359\n"
     ]
    }
   ],
   "source": [
    "print(\"Classification Report:\\n\", classification_report(y_test, y_pred))\n",
    "print(\"Accuracy:\", accuracy)\n",
    "print(\"Precision:\", precision)\n",
    "print(\"Recall:\", recall)"
   ]
  },
  {
   "cell_type": "code",
   "execution_count": 28,
   "id": "98144539",
   "metadata": {},
   "outputs": [
    {
     "data": {
      "image/png": "[encoded data removed]",
      "text/plain": [
       "<Figure size 640x480 with 2 Axes>"
      ]
     },
     "metadata": {},
     "output_type": "display_data"
    }
   ],
   "source": [
    "import matplotlib.pyplot as plt\n",
    "\n",
    "y_pred = model.predict(X_test)\n",
    "cm = confusion_matrix(y_test, y_pred)\n",
    "sns.heatmap(cm, annot=True, fmt='d', cmap='viridis')\n",
    "plt.xlabel('Predicted')\n",
    "plt.ylabel('Actual')\n",
    "plt.title('Confusion Matrix')\n",
    "\n",
    "plt.show()"
   ]
  },
  {
   "cell_type": "markdown",
   "id": "bcbb01b3",
   "metadata": {},
   "source": [
    "# Testing on Random Sample"
   ]
  },
  {
   "cell_type": "code",
   "execution_count": 37,
   "id": "75fe1806",
   "metadata": {},
   "outputs": [],
   "source": [
    "test_sentence = \"This movie is an incredible piece of work. Spend some real time with this one.\"\n",
    "\n",
    "predict_input = cv.transform([test_sentence]).toarray()\n",
    "predicted_label = model.predict(predict_input)"
   ]
  },
  {
   "cell_type": "code",
   "execution_count": 38,
   "id": "e71efd54",
   "metadata": {},
   "outputs": [
    {
     "name": "stdout",
     "output_type": "stream",
     "text": [
      "Test Sentence: \"This movie is an incredible piece of work. Spend some real time with this one.\"\n",
      "Predicted Sentiment: Positive\n"
     ]
    }
   ],
   "source": [
    "print(f\"Test Sentence: \\\"{test_sentence}\\\"\")\n",
    "print(f\"Predicted Sentiment: {'Positive' if predicted_label[0] == 1 else 'Negative'}\")"
   ]
  },
  {
   "cell_type": "code",
   "execution_count": null,
   "id": "613e48ba",
   "metadata": {},
   "outputs": [],
   "source": []
  }
 ],
 "metadata": {
  "kernelspec": {
   "display_name": "Python 3 (ipykernel)",
   "language": "python",
   "name": "python3"
  },
  "language_info": {
   "codemirror_mode": {
    "name": "ipython",
    "version": 3
   },
   "file_extension": ".py",
   "mimetype": "text/x-python",
   "name": "python",
   "nbconvert_exporter": "python",
   "pygments_lexer": "ipython3",
   "version": "3.11.5"
  }
 },
 "nbformat": 4,
 "nbformat_minor": 5
}
